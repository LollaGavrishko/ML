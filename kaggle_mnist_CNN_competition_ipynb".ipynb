{
  "cells": [
    {
      "cell_type": "markdown",
      "metadata": {
        "id": "view-in-github",
        "colab_type": "text"
      },
      "source": [
        "<a href=\"https://colab.research.google.com/github/LollaGavrishko/ML/blob/main/kaggle_mnist_CNN_competition_ipynb%22.ipynb\" target=\"_parent\"><img src=\"https://colab.research.google.com/assets/colab-badge.svg\" alt=\"Open In Colab\"/></a>"
      ]
    },
    {
      "cell_type": "markdown",
      "metadata": {
        "id": "Ah7dy1kFL2H9"
      },
      "source": [
        "# Соревнования по распознаванию рукописных цифр на Kaggle\n",
        "Источник:\n",
        "Соревнования на Kaggle по распознаванию рукописных цифр | Нейросети в Google Colab\n",
        "\n",
        "https://www.youtube.com/watch?v=zO0RAtZRkpc&feature=youtu.be\n",
        "\n",
        "Пример кода для отправки решения на соревнование Kaggle - https://www.kaggle.com/c/digit-recognizer\n",
        "\n",
        "Учебный курс \"[Программирование глубоких нейронных сетей на Python](https://www.asozykin.ru/courses/nnpython)\".\n",
        "\n",
        "Чтобы запускать и редактировать код, сохраните копию этого ноутбука себе (File->Save a copy in Drive...). Свою копию вы сможете изменять и запускать."
      ]
    },
    {
      "cell_type": "code",
      "execution_count": null,
      "metadata": {
        "id": "qrfd6FzSLrE2"
      },
      "outputs": [],
      "source": [
        "from tensorflow.keras.models import Sequential\n",
        "from tensorflow.keras.layers import Dense, Conv2D, MaxPooling2D, Dropout, Flatten\n",
        "from tensorflow.keras import utils\n",
        "from tensorflow.keras.preprocessing import image\n",
        "from keras.preprocessing.image import ImageDataGenerator\n",
        "import numpy as np # linear algebra\n",
        "import pandas as pd\n",
        "from tensorflow.keras.callbacks import ReduceLROnPlateau, ModelCheckpoint\n",
        "import tensorflow as tf\n",
        "from sklearn.model_selection import train_test_split\n",
        "from google.colab import files\n",
        "import numpy as np\n",
        "import matplotlib.pyplot as plt\n",
        "%matplotlib inline"
      ]
    },
    {
      "cell_type": "markdown",
      "metadata": {
        "id": "nLUhgNWtsv8l"
      },
      "source": [
        "## Настраиваем Kaggle API"
      ]
    },
    {
      "cell_type": "markdown",
      "metadata": {
        "id": "iCoP2ocGtYr9"
      },
      "source": [
        "Загружаем токен аутентификации"
      ]
    },
    {
      "cell_type": "code",
      "execution_count": null,
      "metadata": {
        "colab": {
          "base_uri": "https://localhost:8080/",
          "height": 72
        },
        "id": "rzU1bjUis3ma",
        "outputId": "197f029f-5754-4344-bd69-a1b13f80e6e1"
      },
      "outputs": [
        {
          "data": {
            "text/html": [
              "\n",
              "     <input type=\"file\" id=\"files-4e7f48c6-6a61-4650-8ffc-eea5fd964ae4\" name=\"files[]\" multiple disabled\n",
              "        style=\"border:none\" />\n",
              "     <output id=\"result-4e7f48c6-6a61-4650-8ffc-eea5fd964ae4\">\n",
              "      Upload widget is only available when the cell has been executed in the\n",
              "      current browser session. Please rerun this cell to enable.\n",
              "      </output>\n",
              "      <script>// Copyright 2017 Google LLC\n",
              "//\n",
              "// Licensed under the Apache License, Version 2.0 (the \"License\");\n",
              "// you may not use this file except in compliance with the License.\n",
              "// You may obtain a copy of the License at\n",
              "//\n",
              "//      http://www.apache.org/licenses/LICENSE-2.0\n",
              "//\n",
              "// Unless required by applicable law or agreed to in writing, software\n",
              "// distributed under the License is distributed on an \"AS IS\" BASIS,\n",
              "// WITHOUT WARRANTIES OR CONDITIONS OF ANY KIND, either express or implied.\n",
              "// See the License for the specific language governing permissions and\n",
              "// limitations under the License.\n",
              "\n",
              "/**\n",
              " * @fileoverview Helpers for google.colab Python module.\n",
              " */\n",
              "(function(scope) {\n",
              "function span(text, styleAttributes = {}) {\n",
              "  const element = document.createElement('span');\n",
              "  element.textContent = text;\n",
              "  for (const key of Object.keys(styleAttributes)) {\n",
              "    element.style[key] = styleAttributes[key];\n",
              "  }\n",
              "  return element;\n",
              "}\n",
              "\n",
              "// Max number of bytes which will be uploaded at a time.\n",
              "const MAX_PAYLOAD_SIZE = 100 * 1024;\n",
              "\n",
              "function _uploadFiles(inputId, outputId) {\n",
              "  const steps = uploadFilesStep(inputId, outputId);\n",
              "  const outputElement = document.getElementById(outputId);\n",
              "  // Cache steps on the outputElement to make it available for the next call\n",
              "  // to uploadFilesContinue from Python.\n",
              "  outputElement.steps = steps;\n",
              "\n",
              "  return _uploadFilesContinue(outputId);\n",
              "}\n",
              "\n",
              "// This is roughly an async generator (not supported in the browser yet),\n",
              "// where there are multiple asynchronous steps and the Python side is going\n",
              "// to poll for completion of each step.\n",
              "// This uses a Promise to block the python side on completion of each step,\n",
              "// then passes the result of the previous step as the input to the next step.\n",
              "function _uploadFilesContinue(outputId) {\n",
              "  const outputElement = document.getElementById(outputId);\n",
              "  const steps = outputElement.steps;\n",
              "\n",
              "  const next = steps.next(outputElement.lastPromiseValue);\n",
              "  return Promise.resolve(next.value.promise).then((value) => {\n",
              "    // Cache the last promise value to make it available to the next\n",
              "    // step of the generator.\n",
              "    outputElement.lastPromiseValue = value;\n",
              "    return next.value.response;\n",
              "  });\n",
              "}\n",
              "\n",
              "/**\n",
              " * Generator function which is called between each async step of the upload\n",
              " * process.\n",
              " * @param {string} inputId Element ID of the input file picker element.\n",
              " * @param {string} outputId Element ID of the output display.\n",
              " * @return {!Iterable<!Object>} Iterable of next steps.\n",
              " */\n",
              "function* uploadFilesStep(inputId, outputId) {\n",
              "  const inputElement = document.getElementById(inputId);\n",
              "  inputElement.disabled = false;\n",
              "\n",
              "  const outputElement = document.getElementById(outputId);\n",
              "  outputElement.innerHTML = '';\n",
              "\n",
              "  const pickedPromise = new Promise((resolve) => {\n",
              "    inputElement.addEventListener('change', (e) => {\n",
              "      resolve(e.target.files);\n",
              "    });\n",
              "  });\n",
              "\n",
              "  const cancel = document.createElement('button');\n",
              "  inputElement.parentElement.appendChild(cancel);\n",
              "  cancel.textContent = 'Cancel upload';\n",
              "  const cancelPromise = new Promise((resolve) => {\n",
              "    cancel.onclick = () => {\n",
              "      resolve(null);\n",
              "    };\n",
              "  });\n",
              "\n",
              "  // Wait for the user to pick the files.\n",
              "  const files = yield {\n",
              "    promise: Promise.race([pickedPromise, cancelPromise]),\n",
              "    response: {\n",
              "      action: 'starting',\n",
              "    }\n",
              "  };\n",
              "\n",
              "  cancel.remove();\n",
              "\n",
              "  // Disable the input element since further picks are not allowed.\n",
              "  inputElement.disabled = true;\n",
              "\n",
              "  if (!files) {\n",
              "    return {\n",
              "      response: {\n",
              "        action: 'complete',\n",
              "      }\n",
              "    };\n",
              "  }\n",
              "\n",
              "  for (const file of files) {\n",
              "    const li = document.createElement('li');\n",
              "    li.append(span(file.name, {fontWeight: 'bold'}));\n",
              "    li.append(span(\n",
              "        `(${file.type || 'n/a'}) - ${file.size} bytes, ` +\n",
              "        `last modified: ${\n",
              "            file.lastModifiedDate ? file.lastModifiedDate.toLocaleDateString() :\n",
              "                                    'n/a'} - `));\n",
              "    const percent = span('0% done');\n",
              "    li.appendChild(percent);\n",
              "\n",
              "    outputElement.appendChild(li);\n",
              "\n",
              "    const fileDataPromise = new Promise((resolve) => {\n",
              "      const reader = new FileReader();\n",
              "      reader.onload = (e) => {\n",
              "        resolve(e.target.result);\n",
              "      };\n",
              "      reader.readAsArrayBuffer(file);\n",
              "    });\n",
              "    // Wait for the data to be ready.\n",
              "    let fileData = yield {\n",
              "      promise: fileDataPromise,\n",
              "      response: {\n",
              "        action: 'continue',\n",
              "      }\n",
              "    };\n",
              "\n",
              "    // Use a chunked sending to avoid message size limits. See b/62115660.\n",
              "    let position = 0;\n",
              "    do {\n",
              "      const length = Math.min(fileData.byteLength - position, MAX_PAYLOAD_SIZE);\n",
              "      const chunk = new Uint8Array(fileData, position, length);\n",
              "      position += length;\n",
              "\n",
              "      const base64 = btoa(String.fromCharCode.apply(null, chunk));\n",
              "      yield {\n",
              "        response: {\n",
              "          action: 'append',\n",
              "          file: file.name,\n",
              "          data: base64,\n",
              "        },\n",
              "      };\n",
              "\n",
              "      let percentDone = fileData.byteLength === 0 ?\n",
              "          100 :\n",
              "          Math.round((position / fileData.byteLength) * 100);\n",
              "      percent.textContent = `${percentDone}% done`;\n",
              "\n",
              "    } while (position < fileData.byteLength);\n",
              "  }\n",
              "\n",
              "  // All done.\n",
              "  yield {\n",
              "    response: {\n",
              "      action: 'complete',\n",
              "    }\n",
              "  };\n",
              "}\n",
              "\n",
              "scope.google = scope.google || {};\n",
              "scope.google.colab = scope.google.colab || {};\n",
              "scope.google.colab._files = {\n",
              "  _uploadFiles,\n",
              "  _uploadFilesContinue,\n",
              "};\n",
              "})(self);\n",
              "</script> "
            ],
            "text/plain": [
              "<IPython.core.display.HTML object>"
            ]
          },
          "metadata": {},
          "output_type": "display_data"
        },
        {
          "name": "stdout",
          "output_type": "stream",
          "text": [
            "Saving kaggle.json to kaggle.json\n"
          ]
        }
      ],
      "source": [
        "file = files.upload()"
      ]
    },
    {
      "cell_type": "code",
      "execution_count": null,
      "metadata": {
        "colab": {
          "base_uri": "https://localhost:8080/"
        },
        "id": "292OceAu7GyX",
        "outputId": "30a847c1-4e75-4293-8cb3-6cbf211fe071"
      },
      "outputs": [
        {
          "name": "stdout",
          "output_type": "stream",
          "text": [
            "kaggle.json  sample_data\n"
          ]
        }
      ],
      "source": [
        "!ls"
      ]
    },
    {
      "cell_type": "markdown",
      "metadata": {
        "id": "OQlIZDwptlS6"
      },
      "source": [
        "Копируем токен в каталог .kaggle"
      ]
    },
    {
      "cell_type": "code",
      "execution_count": null,
      "metadata": {
        "id": "NoZlnpjytrj5"
      },
      "outputs": [],
      "source": [
        "!mkdir ~/.kaggle\n",
        "!mv kaggle.json ~/.kaggle"
      ]
    },
    {
      "cell_type": "code",
      "execution_count": null,
      "metadata": {
        "id": "bgHmgITFf8oB"
      },
      "outputs": [],
      "source": [
        "!chmod 600 /root/.kaggle/kaggle.json"
      ]
    },
    {
      "cell_type": "markdown",
      "metadata": {
        "id": "0xB767r3uDGa"
      },
      "source": [
        "## Загружаем данные с сайта Kaggle"
      ]
    },
    {
      "cell_type": "code",
      "execution_count": null,
      "metadata": {
        "colab": {
          "base_uri": "https://localhost:8080/"
        },
        "id": "9lEh9x71phyZ",
        "outputId": "2f79be21-9ac5-4b00-b4b3-21146f91590d"
      },
      "outputs": [
        {
          "name": "stdout",
          "output_type": "stream",
          "text": [
            "Mounted at /content/drive\n"
          ]
        }
      ],
      "source": [
        "\n",
        "from google.colab import drive\n",
        "drive.mount('/content/drive')"
      ]
    },
    {
      "cell_type": "code",
      "execution_count": null,
      "metadata": {
        "colab": {
          "base_uri": "https://localhost:8080/"
        },
        "id": "-jtLp-DhuJzh",
        "outputId": "ddd2dc90-4879-4e86-96a7-d2ca0de944b4"
      },
      "outputs": [
        {
          "name": "stdout",
          "output_type": "stream",
          "text": [
            "Downloading digit-recognizer.zip to /content\n",
            "\r  0% 0.00/15.3M [00:00<?, ?B/s]\n",
            "\r100% 15.3M/15.3M [00:00<00:00, 179MB/s]\n"
          ]
        }
      ],
      "source": [
        "!kaggle competitions download -c digit-recognizer"
      ]
    },
    {
      "cell_type": "code",
      "execution_count": null,
      "metadata": {
        "id": "owCMf9vKprXW"
      },
      "outputs": [],
      "source": [
        "train_data = pd.read_csv('/content/drive/MyDrive/Гавришко Л.А./train.csv')\n",
        "test_data = pd.read_csv('/content/drive/MyDrive/Гавришко Л.А./test.csv')"
      ]
    },
    {
      "cell_type": "code",
      "execution_count": null,
      "metadata": {
        "colab": {
          "base_uri": "https://localhost:8080/"
        },
        "id": "c7RGdlX9vKpB",
        "outputId": "1e83bc27-667e-4b13-ffc7-55ecac4d045c"
      },
      "outputs": [
        {
          "name": "stdout",
          "output_type": "stream",
          "text": [
            "digit-recognizer.zip  drive  sample_data\n"
          ]
        }
      ],
      "source": [
        "!ls"
      ]
    },
    {
      "cell_type": "code",
      "execution_count": null,
      "metadata": {
        "colab": {
          "base_uri": "https://localhost:8080/"
        },
        "id": "f1d2fF_hrxN_",
        "outputId": "b7c71543-2e44-4aee-8fa0-44ea2c08d1e1"
      },
      "outputs": [
        {
          "name": "stdout",
          "output_type": "stream",
          "text": [
            "Archive:  digit-recognizer.zip\n",
            "replace sample_submission.csv? [y]es, [n]o, [A]ll, [N]one, [r]ename: y\n",
            "  inflating: sample_submission.csv   \n",
            "replace test.csv? [y]es, [n]o, [A]ll, [N]one, [r]ename: y\n",
            "  inflating: test.csv                \n",
            "replace train.csv? [y]es, [n]o, [A]ll, [N]one, [r]ename: y\n",
            "  inflating: train.csv               \n"
          ]
        }
      ],
      "source": [
        "!unzip digit-recognizer.zip"
      ]
    },
    {
      "cell_type": "code",
      "execution_count": null,
      "metadata": {
        "colab": {
          "base_uri": "https://localhost:8080/"
        },
        "id": "cFGckFMvr7IA",
        "outputId": "55636a1a-30ba-4aa6-a5c5-070d4e0093f4"
      },
      "outputs": [
        {
          "name": "stdout",
          "output_type": "stream",
          "text": [
            "unzip:  cannot find or open train.csv.zip, train.csv.zip.zip or train.csv.zip.ZIP.\n"
          ]
        }
      ],
      "source": [
        "!unzip train.csv.zip"
      ]
    },
    {
      "cell_type": "markdown",
      "metadata": {
        "id": "x9Un4nJT8sJQ"
      },
      "source": [
        "##Смотрим на формат данных"
      ]
    },
    {
      "cell_type": "markdown",
      "metadata": {
        "id": "hjaMds9J8wkf"
      },
      "source": [
        "Данные для обучения"
      ]
    },
    {
      "cell_type": "code",
      "execution_count": null,
      "metadata": {
        "colab": {
          "base_uri": "https://localhost:8080/"
        },
        "id": "6xUxhfg58v5w",
        "outputId": "e01b9f03-c93a-4b75-e8a2-26139b6c0b02"
      },
      "outputs": [
        {
          "name": "stdout",
          "output_type": "stream",
          "text": [
            "head: cannot open 'train_data' for reading: No such file or directory\n"
          ]
        }
      ],
      "source": [
        "!head train_data"
      ]
    },
    {
      "cell_type": "markdown",
      "metadata": {
        "id": "21JM7zEU9EPA"
      },
      "source": [
        "Данные для тестирования"
      ]
    },
    {
      "cell_type": "code",
      "execution_count": null,
      "metadata": {
        "colab": {
          "base_uri": "https://localhost:8080/"
        },
        "id": "0NvHTE0_9GoP",
        "outputId": "0bcfe423-cd1a-4fff-b8f1-315858e74348"
      },
      "outputs": [
        {
          "name": "stdout",
          "output_type": "stream",
          "text": [
            "head: cannot open 'test.csv' for reading: No such file or directory\n"
          ]
        }
      ],
      "source": [
        "!head test.csv"
      ]
    },
    {
      "cell_type": "markdown",
      "metadata": {
        "id": "RTfZSLxb9NqJ"
      },
      "source": [
        "Пример файла с решением"
      ]
    },
    {
      "cell_type": "code",
      "execution_count": null,
      "metadata": {
        "colab": {
          "base_uri": "https://localhost:8080/"
        },
        "id": "Khadi0f09LKi",
        "outputId": "1f97935b-c751-44bc-f68f-b319eb6a43f5"
      },
      "outputs": [
        {
          "name": "stdout",
          "output_type": "stream",
          "text": [
            "head: cannot open 'sample_submission.csv' for reading: No such file or directory\n"
          ]
        }
      ],
      "source": [
        "!head sample_submission.csv"
      ]
    },
    {
      "cell_type": "markdown",
      "metadata": {
        "id": "xiurjCBVMDTG"
      },
      "source": [
        "## Подготовка данных для обучения сети"
      ]
    },
    {
      "cell_type": "markdown",
      "metadata": {
        "id": "1yDF75Cx8VPz"
      },
      "source": [
        "Загружаем данные для обучения из файла"
      ]
    },
    {
      "cell_type": "code",
      "execution_count": null,
      "metadata": {
        "id": "E5L3LUIi8PDV"
      },
      "outputs": [],
      "source": [
        "train_dataset = np.loadtxt('/content/drive/MyDrive/Гавришко Л.А./train.csv', skiprows=1, delimiter=',')"
      ]
    },
    {
      "cell_type": "code",
      "execution_count": null,
      "metadata": {
        "colab": {
          "base_uri": "https://localhost:8080/"
        },
        "id": "0772VOME9vW_",
        "outputId": "7d5c75c5-20da-4a0c-cd86-6534e2071fe0"
      },
      "outputs": [
        {
          "data": {
            "text/plain": [
              "array([[1., 0., 0., ..., 0., 0., 0.],\n",
              "       [0., 0., 0., ..., 0., 0., 0.],\n",
              "       [1., 0., 0., ..., 0., 0., 0.],\n",
              "       [4., 0., 0., ..., 0., 0., 0.],\n",
              "       [0., 0., 0., ..., 0., 0., 0.]])"
            ]
          },
          "execution_count": 16,
          "metadata": {},
          "output_type": "execute_result"
        }
      ],
      "source": [
        "train_dataset[0:5]"
      ]
    },
    {
      "cell_type": "markdown",
      "metadata": {
        "id": "X2lqS46w-Jmg"
      },
      "source": [
        "Выделяем данные для обучения"
      ]
    },
    {
      "cell_type": "code",
      "execution_count": null,
      "metadata": {
        "id": "f5-5e_kj-GS5"
      },
      "outputs": [],
      "source": [
        "x_train = train_dataset[:, 1:]\n",
        "# Переформатируем данные в 2D, бэкенд TensorFlow\n",
        "x_train = x_train.reshape(x_train.shape[0], 28, 28, 1)\n",
        "input_shape = (28, 28, 1)"
      ]
    },
    {
      "cell_type": "code",
      "execution_count": null,
      "metadata": {
        "colab": {
          "base_uri": "https://localhost:8080/"
        },
        "id": "nUtkm24FMdxI",
        "outputId": "530d6fc1-6027-4ad6-d0fc-e95f649486dd"
      },
      "outputs": [
        {
          "data": {
            "text/plain": [
              "(42000, 28, 28, 1)"
            ]
          },
          "execution_count": 18,
          "metadata": {},
          "output_type": "execute_result"
        }
      ],
      "source": [
        "# форма данных обучающего набора\n",
        "x_train.shape"
      ]
    },
    {
      "cell_type": "markdown",
      "metadata": {
        "id": "DJWn7fI_AB4X"
      },
      "source": [
        "Нормализуем данные для обучения"
      ]
    },
    {
      "cell_type": "code",
      "execution_count": null,
      "metadata": {
        "id": "ga0DtPJQVkEh"
      },
      "outputs": [],
      "source": [
        "x_train /= 255.0"
      ]
    },
    {
      "cell_type": "code",
      "execution_count": null,
      "metadata": {
        "colab": {
          "base_uri": "https://localhost:8080/"
        },
        "id": "IW7rhFNSAGIC",
        "outputId": "f5e2e009-2a81-4a90-b084-80330f262967"
      },
      "outputs": [
        {
          "data": {
            "text/plain": [
              "(28, 28, 1)"
            ]
          },
          "execution_count": 20,
          "metadata": {},
          "output_type": "execute_result"
        }
      ],
      "source": [
        "# форма одного изображения из обучающего набора\n",
        "x_train[1].shape"
      ]
    },
    {
      "cell_type": "markdown",
      "metadata": {
        "id": "OKNJl1jZ_9Nw"
      },
      "source": [
        "Выделяем правильные ответы"
      ]
    },
    {
      "cell_type": "code",
      "execution_count": null,
      "metadata": {
        "id": "sjO-WFM0AnJI"
      },
      "outputs": [],
      "source": [
        "y_train = train_dataset[:, 0]"
      ]
    },
    {
      "cell_type": "code",
      "execution_count": null,
      "metadata": {
        "colab": {
          "base_uri": "https://localhost:8080/"
        },
        "id": "_nsLwMHuGnHI",
        "outputId": "e9a71f9a-38c6-4d4b-c70c-39e7a2b27870"
      },
      "outputs": [
        {
          "data": {
            "text/plain": [
              "array([1., 0., 1., 4., 0.])"
            ]
          },
          "execution_count": 22,
          "metadata": {},
          "output_type": "execute_result"
        }
      ],
      "source": [
        "y_train[:5]"
      ]
    },
    {
      "cell_type": "markdown",
      "metadata": {
        "id": "aL0ZROTZApoR"
      },
      "source": [
        "Преобразуем ответы в формат one hot encoding"
      ]
    },
    {
      "cell_type": "code",
      "execution_count": null,
      "metadata": {
        "id": "yQZ2utqhAutw"
      },
      "outputs": [],
      "source": [
        "y_train = utils.to_categorical(y_train)"
      ]
    },
    {
      "cell_type": "code",
      "execution_count": null,
      "metadata": {
        "colab": {
          "base_uri": "https://localhost:8080/"
        },
        "id": "wWlQHgMkA_BQ",
        "outputId": "8deb4fd5-cacf-4932-f6c8-43d3491108ac"
      },
      "outputs": [
        {
          "data": {
            "text/plain": [
              "array([[0., 1., 0., 0., 0., 0., 0., 0., 0., 0.],\n",
              "       [1., 0., 0., 0., 0., 0., 0., 0., 0., 0.],\n",
              "       [0., 1., 0., 0., 0., 0., 0., 0., 0., 0.],\n",
              "       [0., 0., 0., 0., 1., 0., 0., 0., 0., 0.],\n",
              "       [1., 0., 0., 0., 0., 0., 0., 0., 0., 0.]], dtype=float32)"
            ]
          },
          "execution_count": 24,
          "metadata": {},
          "output_type": "execute_result"
        }
      ],
      "source": [
        "y_train[:5]"
      ]
    },
    {
      "cell_type": "markdown",
      "metadata": {
        "id": "uN1z_9VH-QAm"
      },
      "source": [
        "Разделяем набор данных на две части: для обучения (X_Train, Y_train) и проверки (X_val, Y_val)"
      ]
    },
    {
      "cell_type": "code",
      "execution_count": null,
      "metadata": {
        "id": "UjEDV7gSrthA"
      },
      "outputs": [],
      "source": [
        "random_seed = 2\n",
        "X_train, X_val, Y_train, Y_val = train_test_split(x_train, y_train, test_size = 0.1, random_state=random_seed)"
      ]
    },
    {
      "cell_type": "code",
      "execution_count": null,
      "metadata": {
        "colab": {
          "base_uri": "https://localhost:8080/"
        },
        "id": "LJgbvHFTT2g7",
        "outputId": "9acbe3ce-12ce-4471-cf42-8a5dcef5b327"
      },
      "outputs": [
        {
          "data": {
            "text/plain": [
              "(37800, 28, 28, 1)"
            ]
          },
          "execution_count": 26,
          "metadata": {},
          "output_type": "execute_result"
        }
      ],
      "source": [
        "# форма данных обучающего набора\n",
        "X_train.shape"
      ]
    },
    {
      "cell_type": "code",
      "execution_count": null,
      "metadata": {
        "colab": {
          "base_uri": "https://localhost:8080/"
        },
        "id": "AIUzSNALtTE5",
        "outputId": "134c76af-a03d-43f5-dffd-e390ce7b3d64"
      },
      "outputs": [
        {
          "data": {
            "text/plain": [
              "(4200, 28, 28, 1)"
            ]
          },
          "execution_count": 27,
          "metadata": {},
          "output_type": "execute_result"
        }
      ],
      "source": [
        "X_val.shape"
      ]
    },
    {
      "cell_type": "code",
      "execution_count": null,
      "metadata": {
        "colab": {
          "base_uri": "https://localhost:8080/"
        },
        "id": "5KcvmJ5XtGOb",
        "outputId": "8d877dba-2480-4ba9-cc2a-02fe5e0763ac"
      },
      "outputs": [
        {
          "data": {
            "text/plain": [
              "(37800, 10)"
            ]
          },
          "execution_count": 28,
          "metadata": {},
          "output_type": "execute_result"
        }
      ],
      "source": [
        "Y_train.shape"
      ]
    },
    {
      "cell_type": "code",
      "execution_count": null,
      "metadata": {
        "colab": {
          "base_uri": "https://localhost:8080/"
        },
        "id": "gwn_lkB0tgEw",
        "outputId": "6d8f2d9c-5a06-473c-dbb4-6581a1aba05e"
      },
      "outputs": [
        {
          "data": {
            "text/plain": [
              "(4200, 10)"
            ]
          },
          "execution_count": 29,
          "metadata": {},
          "output_type": "execute_result"
        }
      ],
      "source": [
        "Y_val.shape"
      ]
    },
    {
      "cell_type": "markdown",
      "metadata": {
        "id": "RevEe2W06jVq"
      },
      "source": [
        "#Создаем генератор для расширения данных во время обучения\n",
        "Расширение данных реализуется  в процессе обучения за счет трансформации имеющихся данных.\n",
        "\n",
        "Для этого при обучении модели используется метод flow, который применяется к данным в datagen, которые, в свою очередь, мы пропускаем через генератор ImageDataGenerator.\n",
        "Это так называемое \"обучение на лету\".\n",
        "\n",
        "В итоге во время обучения  сеть каждый раз видит разные изображения, трансформированные случайным образом из исходных изображений за счет применения ImageDataGenerator. За счет этого и достигается расширение данных.\n",
        "\n",
        "Подробнее: см. Франсуа Шолле, 5.2. Расширение данных, с. 169"
      ]
    },
    {
      "cell_type": "code",
      "execution_count": null,
      "metadata": {
        "id": "pPy-7W7DqE9w"
      },
      "outputs": [],
      "source": [
        "datagen = ImageDataGenerator(\n",
        "        rotation_range=10,\n",
        "        zoom_range = 0.10,\n",
        "        width_shift_range=0.1,\n",
        "        height_shift_range=0.1)"
      ]
    },
    {
      "cell_type": "code",
      "execution_count": null,
      "metadata": {
        "id": "gV3pb3cnQIOU"
      },
      "outputs": [],
      "source": [
        "# сохраним в переменную data изображение из обучающего набора X_train\n",
        "data = X_train[1]"
      ]
    },
    {
      "cell_type": "code",
      "execution_count": null,
      "metadata": {
        "colab": {
          "base_uri": "https://localhost:8080/"
        },
        "id": "OPFE3Ms0QLpS",
        "outputId": "60e4b9da-f402-4e35-cc45-8ca5e39de0ab"
      },
      "outputs": [
        {
          "data": {
            "text/plain": [
              "(28, 28, 1)"
            ]
          },
          "execution_count": 32,
          "metadata": {},
          "output_type": "execute_result"
        }
      ],
      "source": [
        "data.shape"
      ]
    },
    {
      "cell_type": "code",
      "execution_count": null,
      "metadata": {
        "id": "v5xusJJ1Q71b"
      },
      "outputs": [],
      "source": [
        "# изменение формы - добавим ось на первую позицию для отображения количества изображений\n",
        "data = np.expand_dims(data, axis=0)"
      ]
    },
    {
      "cell_type": "code",
      "execution_count": null,
      "metadata": {
        "colab": {
          "base_uri": "https://localhost:8080/"
        },
        "id": "0mVMYMVMREDO",
        "outputId": "fd9bb0dd-b165-47d9-8473-4fc51cb25475"
      },
      "outputs": [
        {
          "data": {
            "text/plain": [
              "(1, 28, 28, 1)"
            ]
          },
          "execution_count": 34,
          "metadata": {},
          "output_type": "execute_result"
        }
      ],
      "source": [
        "data.shape"
      ]
    },
    {
      "cell_type": "code",
      "execution_count": null,
      "metadata": {
        "colab": {
          "base_uri": "https://localhost:8080/",
          "height": 1000
        },
        "id": "CjffjIEa67rK",
        "outputId": "6cafac38-08d5-4820-85db-f82c5daa0da5"
      },
      "outputs": [
        {
          "data": {
            "image/png": "[encoded data removed]",
            "text/plain": [
              "<Figure size 640x480 with 1 Axes>"
            ]
          },
          "metadata": {},
          "output_type": "display_data"
        },
        {
          "data": {
            "image/png": "[encoded data removed]",
            "text/plain": [
              "<Figure size 640x480 with 1 Axes>"
            ]
          },
          "metadata": {},
          "output_type": "display_data"
        },
        {
          "data": {
            "image/png": "[encoded data removed]",
            "text/plain": [
              "<Figure size 640x480 with 1 Axes>"
            ]
          },
          "metadata": {},
          "output_type": "display_data"
        },
        {
          "data": {
            "image/png": "[encoded data removed]",
            "text/plain": [
              "<Figure size 640x480 with 1 Axes>"
            ]
          },
          "metadata": {},
          "output_type": "display_data"
        },
        {
          "data": {
            "image/png": "[encoded data removed]",
            "text/plain": [
              "<Figure size 640x480 with 1 Axes>"
            ]
          },
          "metadata": {},
          "output_type": "display_data"
        },
        {
          "data": {
            "image/png": "[encoded data removed]",
            "text/plain": [
              "<Figure size 640x480 with 1 Axes>"
            ]
          },
          "metadata": {},
          "output_type": "display_data"
        }
      ],
      "source": [
        "# продемонстрируем работу ImageDataGenerator на примере одного изображения\n",
        "i = 0\n",
        "#data = X_train[0]\n",
        "#data = np.expand_dims(data, axis=0)\n",
        "for batch in datagen.flow(data, batch_size=1):\n",
        "    plt.figure(i)\n",
        "    imgplot = plt.imshow(batch[0][:,:,0])\n",
        "    i += 1\n",
        "    if i % 6 == 0:\n",
        "        break\n",
        "plt.show()"
      ]
    },
    {
      "cell_type": "markdown",
      "metadata": {
        "id": "BmTr_lXTKNbN"
      },
      "source": [
        "## Создаем нейронную сеть"
      ]
    },
    {
      "cell_type": "markdown",
      "metadata": {
        "id": "fV_igNZuMNXe"
      },
      "source": [
        "**Создаем последовательную модель**"
      ]
    },
    {
      "cell_type": "code",
      "execution_count": null,
      "metadata": {
        "id": "YvRM8hR06iUt"
      },
      "outputs": [],
      "source": [
        "model = Sequential()\n",
        "\n",
        "model.add(Conv2D(filters = 32, kernel_size = (5,5),padding = 'Same',\n",
        "                 activation ='relu', input_shape = (28,28,1)))\n",
        "model.add(Conv2D(filters = 32, kernel_size = (5,5),padding = 'Same',\n",
        "                 activation ='relu'))\n",
        "model.add(MaxPooling2D(pool_size=(2,2)))\n",
        "model.add(Dropout(0.25))\n",
        "\n",
        "\n",
        "model.add(Conv2D(filters = 64, kernel_size = (3,3),padding = 'Same',\n",
        "                 activation ='relu'))\n",
        "model.add(Conv2D(filters = 64, kernel_size = (3,3),padding = 'Same',\n",
        "                 activation ='relu'))\n",
        "model.add(MaxPooling2D(pool_size=(2,2), strides=(2,2)))\n",
        "model.add(Dropout(0.25))\n",
        "\n",
        "model.add(Flatten())\n",
        "model.add(Dense(256, activation = \"relu\"))\n",
        "model.add(Dropout(0.5))\n",
        "model.add(Dense(10, activation = \"softmax\"))"
      ]
    },
    {
      "cell_type": "markdown",
      "metadata": {
        "id": "G__m76T-KWhd"
      },
      "source": [
        "**Компилируем сеть**"
      ]
    },
    {
      "cell_type": "code",
      "execution_count": null,
      "metadata": {
        "colab": {
          "base_uri": "https://localhost:8080/"
        },
        "id": "PTcbSxchKZjd",
        "outputId": "8f18aaf5-013f-41a5-cf4a-9bcd022dcdf6"
      },
      "outputs": [
        {
          "name": "stdout",
          "output_type": "stream",
          "text": [
            "Model: \"sequential\"\n",
            "_________________________________________________________________\n",
            " Layer (type)                Output Shape              Param #   \n",
            "=================================================================\n",
            " conv2d (Conv2D)             (None, 28, 28, 32)        832       \n",
            "                                                                 \n",
            " conv2d_1 (Conv2D)           (None, 28, 28, 32)        25632     \n",
            "                                                                 \n",
            " max_pooling2d (MaxPooling2  (None, 14, 14, 32)        0         \n",
            " D)                                                              \n",
            "                                                                 \n",
            " dropout (Dropout)           (None, 14, 14, 32)        0         \n",
            "                                                                 \n",
            " conv2d_2 (Conv2D)           (None, 14, 14, 64)        18496     \n",
            "                                                                 \n",
            " conv2d_3 (Conv2D)           (None, 14, 14, 64)        36928     \n",
            "                                                                 \n",
            " max_pooling2d_1 (MaxPoolin  (None, 7, 7, 64)          0         \n",
            " g2D)                                                            \n",
            "                                                                 \n",
            " dropout_1 (Dropout)         (None, 7, 7, 64)          0         \n",
            "                                                                 \n",
            " flatten (Flatten)           (None, 3136)              0         \n",
            "                                                                 \n",
            " dense (Dense)               (None, 256)               803072    \n",
            "                                                                 \n",
            " dropout_2 (Dropout)         (None, 256)               0         \n",
            "                                                                 \n",
            " dense_1 (Dense)             (None, 10)                2570      \n",
            "                                                                 \n",
            "=================================================================\n",
            "Total params: 887530 (3.39 MB)\n",
            "Trainable params: 887530 (3.39 MB)\n",
            "Non-trainable params: 0 (0.00 Byte)\n",
            "_________________________________________________________________\n",
            "None\n"
          ]
        }
      ],
      "source": [
        "model.compile(loss=\"categorical_crossentropy\", optimizer=\"adam\", metrics=[\"accuracy\"])\n",
        "\n",
        "print(model.summary())"
      ]
    },
    {
      "cell_type": "markdown",
      "metadata": {
        "id": "lspCHiaCKl72"
      },
      "source": [
        "## Обучаем нейронную сеть"
      ]
    },
    {
      "cell_type": "code",
      "execution_count": null,
      "metadata": {
        "id": "C3JnxgJMeKbn"
      },
      "outputs": [],
      "source": [
        "сheckpoint = ModelCheckpoint('mnist-cnn.h5',\n",
        "                              monitor='val_accuracy',\n",
        "                              save_best_only=True,\n",
        "                              verbose=1)"
      ]
    },
    {
      "cell_type": "code",
      "execution_count": null,
      "metadata": {
        "id": "ZTRnbOV2dbfA"
      },
      "outputs": [],
      "source": [
        "learning_rate_reduction = ReduceLROnPlateau(monitor='val_accuracy',\n",
        "                                            patience=3,\n",
        "                                            verbose=1,\n",
        "                                            factor=0.5,\n",
        "                                            min_lr=0.00001)"
      ]
    },
    {
      "cell_type": "code",
      "execution_count": null,
      "metadata": {
        "id": "bldCePr5sUYg"
      },
      "outputs": [],
      "source": [
        "batch_size=96"
      ]
    },
    {
      "cell_type": "code",
      "execution_count": null,
      "metadata": {
        "colab": {
          "background_save": true,
          "base_uri": "https://localhost:8080/"
        },
        "id": "H6EIXu1dKoju",
        "outputId": "3f790e81-016d-4e94-f26b-7fd9c615da65"
      },
      "outputs": [
        {
          "name": "stdout",
          "output_type": "stream",
          "text": [
            "Epoch 1/30\n",
            "393/393 [==============================] - ETA: 0s - loss: 0.4286 - accuracy: 0.8629\n",
            "Epoch 1: val_accuracy improved from -inf to 0.97952, saving model to mnist-cnn.h5\n",
            "393/393 [==============================] - 270s 684ms/step - loss: 0.4286 - accuracy: 0.8629 - val_loss: 0.0634 - val_accuracy: 0.9795 - lr: 0.0010\n"
          ]
        },
        {
          "name": "stderr",
          "output_type": "stream",
          "text": [
            "/usr/local/lib/python3.10/dist-packages/keras/src/engine/training.py:3000: UserWarning: You are saving your model as an HDF5 file via `model.save()`. This file format is considered legacy. We recommend using instead the native Keras format, e.g. `model.save('my_model.keras')`.\n",
            "  saving_api.save_model(\n"
          ]
        },
        {
          "name": "stdout",
          "output_type": "stream",
          "text": [
            "Epoch 2/30\n",
            "393/393 [==============================] - ETA: 0s - loss: 0.1367 - accuracy: 0.9598\n",
            "Epoch 2: val_accuracy improved from 0.97952 to 0.98357, saving model to mnist-cnn.h5\n",
            "393/393 [==============================] - 270s 687ms/step - loss: 0.1367 - accuracy: 0.9598 - val_loss: 0.0493 - val_accuracy: 0.9836 - lr: 0.0010\n",
            "Epoch 3/30\n",
            "393/393 [==============================] - ETA: 0s - loss: 0.1023 - accuracy: 0.9700\n",
            "Epoch 3: val_accuracy improved from 0.98357 to 0.98690, saving model to mnist-cnn.h5\n",
            "393/393 [==============================] - 267s 679ms/step - loss: 0.1023 - accuracy: 0.9700 - val_loss: 0.0421 - val_accuracy: 0.9869 - lr: 0.0010\n",
            "Epoch 4/30\n",
            "393/393 [==============================] - ETA: 0s - loss: 0.0829 - accuracy: 0.9753\n",
            "Epoch 4: val_accuracy improved from 0.98690 to 0.99095, saving model to mnist-cnn.h5\n",
            "393/393 [==============================] - 267s 677ms/step - loss: 0.0829 - accuracy: 0.9753 - val_loss: 0.0310 - val_accuracy: 0.9910 - lr: 0.0010\n",
            "Epoch 5/30\n",
            "393/393 [==============================] - ETA: 0s - loss: 0.0733 - accuracy: 0.9785\n",
            "Epoch 5: val_accuracy improved from 0.99095 to 0.99190, saving model to mnist-cnn.h5\n",
            "393/393 [==============================] - 264s 671ms/step - loss: 0.0733 - accuracy: 0.9785 - val_loss: 0.0282 - val_accuracy: 0.9919 - lr: 0.0010\n",
            "Epoch 6/30\n",
            "393/393 [==============================] - ETA: 0s - loss: 0.0661 - accuracy: 0.9809\n",
            "Epoch 6: val_accuracy improved from 0.99190 to 0.99214, saving model to mnist-cnn.h5\n",
            "393/393 [==============================] - 263s 669ms/step - loss: 0.0661 - accuracy: 0.9809 - val_loss: 0.0234 - val_accuracy: 0.9921 - lr: 0.0010\n",
            "Epoch 7/30\n",
            "393/393 [==============================] - ETA: 0s - loss: 0.0635 - accuracy: 0.9811\n",
            "Epoch 7: val_accuracy improved from 0.99214 to 0.99381, saving model to mnist-cnn.h5\n",
            "393/393 [==============================] - 253s 644ms/step - loss: 0.0635 - accuracy: 0.9811 - val_loss: 0.0239 - val_accuracy: 0.9938 - lr: 0.0010\n",
            "Epoch 8/30\n",
            "393/393 [==============================] - ETA: 0s - loss: 0.0566 - accuracy: 0.9834\n",
            "Epoch 8: val_accuracy did not improve from 0.99381\n",
            "393/393 [==============================] - 253s 643ms/step - loss: 0.0566 - accuracy: 0.9834 - val_loss: 0.0248 - val_accuracy: 0.9929 - lr: 0.0010\n",
            "Epoch 9/30\n",
            "393/393 [==============================] - ETA: 0s - loss: 0.0526 - accuracy: 0.9844\n",
            "Epoch 9: val_accuracy improved from 0.99381 to 0.99405, saving model to mnist-cnn.h5\n",
            "393/393 [==============================] - 257s 653ms/step - loss: 0.0526 - accuracy: 0.9844 - val_loss: 0.0187 - val_accuracy: 0.9940 - lr: 0.0010\n",
            "Epoch 10/30\n",
            "393/393 [==============================] - ETA: 0s - loss: 0.0495 - accuracy: 0.9850\n",
            "Epoch 10: val_accuracy did not improve from 0.99405\n",
            "393/393 [==============================] - 251s 640ms/step - loss: 0.0495 - accuracy: 0.9850 - val_loss: 0.0220 - val_accuracy: 0.9926 - lr: 0.0010\n",
            "Epoch 11/30\n",
            "393/393 [==============================] - ETA: 0s - loss: 0.0469 - accuracy: 0.9862\n",
            "Epoch 11: val_accuracy did not improve from 0.99405\n",
            "393/393 [==============================] - 251s 640ms/step - loss: 0.0469 - accuracy: 0.9862 - val_loss: 0.0193 - val_accuracy: 0.9933 - lr: 0.0010\n",
            "Epoch 12/30\n",
            "393/393 [==============================] - ETA: 0s - loss: 0.0454 - accuracy: 0.9869\n",
            "Epoch 12: val_accuracy did not improve from 0.99405\n",
            "\n",
            "Epoch 12: ReduceLROnPlateau reducing learning rate to 0.0005000000237487257.\n",
            "393/393 [==============================] - 251s 639ms/step - loss: 0.0454 - accuracy: 0.9869 - val_loss: 0.0242 - val_accuracy: 0.9924 - lr: 0.0010\n",
            "Epoch 13/30\n",
            "393/393 [==============================] - ETA: 0s - loss: 0.0359 - accuracy: 0.9897\n",
            "Epoch 13: val_accuracy did not improve from 0.99405\n",
            "393/393 [==============================] - 255s 649ms/step - loss: 0.0359 - accuracy: 0.9897 - val_loss: 0.0164 - val_accuracy: 0.9940 - lr: 5.0000e-04\n",
            "Epoch 14/30\n",
            "393/393 [==============================] - ETA: 0s - loss: 0.0328 - accuracy: 0.9905\n",
            "Epoch 14: val_accuracy improved from 0.99405 to 0.99500, saving model to mnist-cnn.h5\n",
            "393/393 [==============================] - 257s 655ms/step - loss: 0.0328 - accuracy: 0.9905 - val_loss: 0.0155 - val_accuracy: 0.9950 - lr: 5.0000e-04\n",
            "Epoch 15/30\n",
            "393/393 [==============================] - ETA: 0s - loss: 0.0333 - accuracy: 0.9901\n",
            "Epoch 15: val_accuracy did not improve from 0.99500\n",
            "393/393 [==============================] - 252s 640ms/step - loss: 0.0333 - accuracy: 0.9901 - val_loss: 0.0162 - val_accuracy: 0.9950 - lr: 5.0000e-04\n",
            "Epoch 16/30\n",
            "393/393 [==============================] - ETA: 0s - loss: 0.0304 - accuracy: 0.9908\n",
            "Epoch 16: val_accuracy did not improve from 0.99500\n",
            "393/393 [==============================] - 251s 637ms/step - loss: 0.0304 - accuracy: 0.9908 - val_loss: 0.0134 - val_accuracy: 0.9945 - lr: 5.0000e-04\n",
            "Epoch 17/30\n",
            "393/393 [==============================] - ETA: 0s - loss: 0.0319 - accuracy: 0.9903\n",
            "Epoch 17: val_accuracy did not improve from 0.99500\n",
            "\n",
            "Epoch 17: ReduceLROnPlateau reducing learning rate to 0.0002500000118743628.\n",
            "393/393 [==============================] - 252s 640ms/step - loss: 0.0319 - accuracy: 0.9903 - val_loss: 0.0153 - val_accuracy: 0.9948 - lr: 5.0000e-04\n",
            "Epoch 18/30\n",
            "393/393 [==============================] - ETA: 0s - loss: 0.0260 - accuracy: 0.9922\n",
            "Epoch 18: val_accuracy improved from 0.99500 to 0.99524, saving model to mnist-cnn.h5\n",
            "393/393 [==============================] - 255s 647ms/step - loss: 0.0260 - accuracy: 0.9922 - val_loss: 0.0132 - val_accuracy: 0.9952 - lr: 2.5000e-04\n",
            "Epoch 19/30\n",
            "393/393 [==============================] - ETA: 0s - loss: 0.0222 - accuracy: 0.9935\n",
            "Epoch 19: val_accuracy did not improve from 0.99524\n",
            "393/393 [==============================] - 255s 648ms/step - loss: 0.0222 - accuracy: 0.9935 - val_loss: 0.0124 - val_accuracy: 0.9948 - lr: 2.5000e-04\n",
            "Epoch 20/30\n",
            "308/393 [======================>.......] - ETA: 52s - loss: 0.0228 - accuracy: 0.9931"
          ]
        }
      ],
      "source": [
        "history = model.fit(datagen.flow(X_train,Y_train, batch_size=batch_size),\n",
        "                    epochs=30,\n",
        "                    validation_data=(X_val, Y_val),\n",
        "                    steps_per_epoch=X_train.shape[0] // batch_size,\n",
        "                    verbose=1,\n",
        "                    callbacks=[сheckpoint, learning_rate_reduction])"
      ]
    },
    {
      "cell_type": "code",
      "execution_count": null,
      "metadata": {
        "id": "miePM2tefyzO"
      },
      "outputs": [],
      "source": [
        "model.load_weights('mnist-cnn.h5')"
      ]
    },
    {
      "cell_type": "code",
      "execution_count": null,
      "metadata": {
        "colab": {
          "base_uri": "https://localhost:8080/"
        },
        "id": "d2lsZh-0yDG1",
        "outputId": "e793ca47-7ee2-4cb7-8cad-4cb5a832cb3b"
      },
      "outputs": [
        {
          "data": {
            "text/plain": [
              "dict_keys(['loss', 'accuracy', 'val_loss', 'val_accuracy', 'lr'])"
            ]
          },
          "execution_count": 43,
          "metadata": {},
          "output_type": "execute_result"
        }
      ],
      "source": [
        "history.history.keys()"
      ]
    },
    {
      "cell_type": "code",
      "execution_count": null,
      "metadata": {
        "colab": {
          "base_uri": "https://localhost:8080/"
        },
        "id": "6biHc_a8yVuB",
        "outputId": "fc5ec74c-dc70-41ee-e060-1d97eba8a955"
      },
      "outputs": [
        {
          "data": {
            "text/plain": [
              "[0.9833333492279053,\n",
              " 0.9859523773193359,\n",
              " 0.991190493106842,\n",
              " 0.9904761910438538,\n",
              " 0.9930952191352844,\n",
              " 0.9928571581840515,\n",
              " 0.9928571581840515,\n",
              " 0.993571400642395,\n",
              " 0.9933333396911621,\n",
              " 0.9916666746139526,\n",
              " 0.994523823261261,\n",
              " 0.9926190376281738,\n",
              " 0.9940476417541504,\n",
              " 0.9938095211982727,\n",
              " 0.9942857027053833,\n",
              " 0.9957143068313599,\n",
              " 0.9950000047683716,\n",
              " 0.994523823261261,\n",
              " 0.9928571581840515,\n",
              " 0.9957143068313599,\n",
              " 0.9959523677825928,\n",
              " 0.9950000047683716,\n",
              " 0.9950000047683716,\n",
              " 0.9950000047683716,\n",
              " 0.9952380657196045,\n",
              " 0.9954761862754822,\n",
              " 0.9959523677825928,\n",
              " 0.9961904883384705,\n",
              " 0.9959523677825928,\n",
              " 0.9959523677825928]"
            ]
          },
          "execution_count": 44,
          "metadata": {},
          "output_type": "execute_result"
        }
      ],
      "source": [
        "history.history['val_accuracy']"
      ]
    },
    {
      "cell_type": "code",
      "execution_count": null,
      "metadata": {
        "colab": {
          "base_uri": "https://localhost:8080/"
        },
        "id": "MZcUdW6dytXB",
        "outputId": "3d94c5a5-7b48-40f3-bba7-acc39baabe34"
      },
      "outputs": [
        {
          "data": {
            "text/plain": [
              "0.9961904883384705"
            ]
          },
          "execution_count": 45,
          "metadata": {},
          "output_type": "execute_result"
        }
      ],
      "source": [
        "max(history.history['val_accuracy'])"
      ]
    },
    {
      "cell_type": "markdown",
      "metadata": {
        "id": "wYhse8xmmdS5"
      },
      "source": [
        "## Визуализация качества обучения\n"
      ]
    },
    {
      "cell_type": "code",
      "execution_count": null,
      "metadata": {
        "colab": {
          "base_uri": "https://localhost:8080/",
          "height": 449
        },
        "id": "ty0iVxcXmgHt",
        "outputId": "8e7dcc21-1d1b-437e-ffad-4c1d34d05568"
      },
      "outputs": [
        {
          "data": {
            "image/png": "[encoded data removed]",
            "text/plain": [
              "<Figure size 640x480 with 1 Axes>"
            ]
          },
          "metadata": {},
          "output_type": "display_data"
        }
      ],
      "source": [
        "plt.plot(history.history['accuracy'],\n",
        "         label='Доля верных ответов на обучающем наборе')\n",
        "plt.plot(history.history['val_accuracy'],\n",
        "         label='Доля верных ответов на проверочном наборе')\n",
        "plt.xlabel('Эпоха обучения')\n",
        "plt.ylabel('Доля верных ответов')\n",
        "plt.legend()\n",
        "plt.show()"
      ]
    },
    {
      "cell_type": "markdown",
      "metadata": {
        "id": "_rQbSXc0CwSQ"
      },
      "source": [
        "## Загружаем данные для распознавания"
      ]
    },
    {
      "cell_type": "code",
      "execution_count": null,
      "metadata": {
        "colab": {
          "background_save": true
        },
        "id": "lw4F0rCbC0HA"
      },
      "outputs": [],
      "source": [
        "test_dataset = np.loadtxt('test.csv', skiprows=1, delimiter=\",\")"
      ]
    },
    {
      "cell_type": "code",
      "execution_count": null,
      "metadata": {
        "colab": {
          "background_save": true
        },
        "id": "-Qaa-wwCDJxQ",
        "outputId": "442b1491-401c-422b-a2a2-9b6af23b1c85"
      },
      "outputs": [
        {
          "data": {
            "text/plain": [
              "array([[0., 0., 0., ..., 0., 0., 0.],\n",
              "       [0., 0., 0., ..., 0., 0., 0.],\n",
              "       [0., 0., 0., ..., 0., 0., 0.],\n",
              "       [0., 0., 0., ..., 0., 0., 0.],\n",
              "       [0., 0., 0., ..., 0., 0., 0.]])"
            ]
          },
          "execution_count": 48,
          "metadata": {},
          "output_type": "execute_result"
        }
      ],
      "source": [
        "test_dataset[:5]"
      ]
    },
    {
      "cell_type": "code",
      "execution_count": null,
      "metadata": {
        "colab": {
          "background_save": true
        },
        "id": "KtCMLgC7Y53H"
      },
      "outputs": [],
      "source": [
        "x_test = test_dataset.reshape(test_dataset.shape[0], 28, 28, 1)"
      ]
    },
    {
      "cell_type": "markdown",
      "metadata": {
        "id": "2edLWqi-DV8v"
      },
      "source": [
        "Нормализация данных"
      ]
    },
    {
      "cell_type": "code",
      "execution_count": null,
      "metadata": {
        "colab": {
          "background_save": true
        },
        "id": "lKKDMHoCDYKH"
      },
      "outputs": [],
      "source": [
        "x_test = x_test / 255.0"
      ]
    },
    {
      "cell_type": "markdown",
      "metadata": {
        "id": "nCDrYOZVD8LS"
      },
      "source": [
        "## Запускаем распознавание рукописных цифр из тестового набора данных"
      ]
    },
    {
      "cell_type": "code",
      "execution_count": null,
      "metadata": {
        "id": "hkGx6etOEHW3"
      },
      "outputs": [],
      "source": [
        "predictions = model.predict(x_test)"
      ]
    },
    {
      "cell_type": "code",
      "execution_count": null,
      "metadata": {
        "colab": {
          "background_save": true
        },
        "id": "KpjMktszEOHX",
        "outputId": "8a7c29a6-8c6e-4427-c737-99853672ac2c"
      },
      "outputs": [
        {
          "data": {
            "text/plain": [
              "array([[1.4126280e-14, 1.4342450e-13, 9.9999994e-01, 6.2703103e-13,\n",
              "        1.5528280e-13, 3.5205580e-18, 2.1858071e-17, 3.3104938e-12,\n",
              "        3.4031252e-13, 2.1602047e-14],\n",
              "       [9.9999982e-01, 1.2101909e-12, 4.7279247e-10, 6.3209503e-12,\n",
              "        4.8939828e-12, 8.6059421e-10, 1.5783446e-08, 1.8012837e-10,\n",
              "        1.0931388e-09, 8.0105899e-08],\n",
              "       [4.1459778e-08, 7.3876566e-10, 2.7408573e-06, 6.4844698e-08,\n",
              "        8.9569348e-06, 1.8706052e-10, 8.8009886e-12, 4.2152030e-07,\n",
              "        2.2847319e-06, 9.9998540e-01]], dtype=float32)"
            ]
          },
          "execution_count": 52,
          "metadata": {},
          "output_type": "execute_result"
        }
      ],
      "source": [
        "predictions[:3]"
      ]
    },
    {
      "cell_type": "markdown",
      "metadata": {
        "id": "hxmUUZFeES83"
      },
      "source": [
        "Преобразуем результаты распознавания из формата one hot encoding в цифры"
      ]
    },
    {
      "cell_type": "code",
      "execution_count": null,
      "metadata": {
        "colab": {
          "background_save": true
        },
        "id": "9zXRff8tEZcw"
      },
      "outputs": [],
      "source": [
        "predictions = np.argmax(predictions, axis=1)"
      ]
    },
    {
      "cell_type": "code",
      "execution_count": null,
      "metadata": {
        "colab": {
          "background_save": true
        },
        "id": "I4JBXf1lEev6",
        "outputId": "be8f4c86-9017-49e4-eab7-f69eacaf6979"
      },
      "outputs": [
        {
          "data": {
            "text/plain": [
              "array([2, 0, 9])"
            ]
          },
          "execution_count": 54,
          "metadata": {},
          "output_type": "execute_result"
        }
      ],
      "source": [
        "predictions[:3]"
      ]
    },
    {
      "cell_type": "markdown",
      "metadata": {
        "id": "xYh4TAz4Ei3p"
      },
      "source": [
        "### Готовим файл с решением для Kaggle"
      ]
    },
    {
      "cell_type": "code",
      "execution_count": null,
      "metadata": {
        "colab": {
          "background_save": true
        },
        "id": "ciJZLp7uEn5p"
      },
      "outputs": [],
      "source": [
        "out = np.column_stack((range(1, predictions.shape[0]+1), predictions))"
      ]
    },
    {
      "cell_type": "code",
      "execution_count": null,
      "metadata": {
        "colab": {
          "background_save": true
        },
        "id": "fbtqv-c7FH8S",
        "outputId": "3323489c-28d6-4a8b-c6b7-430aacb096b3"
      },
      "outputs": [
        {
          "data": {
            "text/plain": [
              "array([[1, 2],\n",
              "       [2, 0],\n",
              "       [3, 9],\n",
              "       [4, 0],\n",
              "       [5, 3]])"
            ]
          },
          "execution_count": 56,
          "metadata": {},
          "output_type": "execute_result"
        }
      ],
      "source": [
        "out[:5]"
      ]
    },
    {
      "cell_type": "markdown",
      "metadata": {
        "id": "Njg9BTZUFSDx"
      },
      "source": [
        "Записываем результаты в файл"
      ]
    },
    {
      "cell_type": "code",
      "execution_count": null,
      "metadata": {
        "colab": {
          "background_save": true
        },
        "id": "aub5ObF2FUmy"
      },
      "outputs": [],
      "source": [
        "np.savetxt('submission.csv', out, header=\"ImageId,Label\",\n",
        "            comments=\"\", fmt=\"%d,%d\")"
      ]
    },
    {
      "cell_type": "code",
      "execution_count": null,
      "metadata": {
        "colab": {
          "background_save": true
        },
        "id": "kdtnyQEOFX-x",
        "outputId": "c9fd1602-4c80-4718-e53d-e7fa7ed6c8a2"
      },
      "outputs": [
        {
          "name": "stdout",
          "output_type": "stream",
          "text": [
            "ImageId,Label\n",
            "1,2\n",
            "2,0\n",
            "3,9\n",
            "4,0\n",
            "5,3\n",
            "6,7\n",
            "7,0\n",
            "8,3\n",
            "9,0\n"
          ]
        }
      ],
      "source": [
        "!head submission.csv"
      ]
    },
    {
      "cell_type": "markdown",
      "metadata": {
        "id": "RTk-9CAxF0_5"
      },
      "source": [
        "## Отправляем решение на соревнование"
      ]
    },
    {
      "cell_type": "code",
      "execution_count": null,
      "metadata": {
        "id": "26Ij7aJXF5fo"
      },
      "outputs": [],
      "source": [
        "!kaggle competitions submit -c digit-recognizer -m \"Submition from Colab\" -f submission.csv"
      ]
    },
    {
      "cell_type": "markdown",
      "metadata": {
        "id": "gIJT5NgP1Fdo"
      },
      "source": [
        "# ***Рекомендуем почитать\n",
        "Как правильно «фармить» Kaggle\n",
        "https://habr.com/ru/company/ods/blog/426227/\n"
      ]
    }
  ],
  "metadata": {
    "accelerator": "GPU",
    "colab": {
      "provenance": [],
      "include_colab_link": true
    },
    "kernelspec": {
      "display_name": "Python 3",
      "name": "python3"
    }
  },
  "nbformat": 4,
  "nbformat_minor": 0
}